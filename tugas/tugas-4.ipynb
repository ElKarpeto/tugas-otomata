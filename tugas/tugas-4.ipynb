{
 "cells": [
  {
   "cell_type": "markdown",
   "metadata": {},
   "source": [
    "# Tugas 4 Otomata"
   ]
  },
  {
   "cell_type": "code",
   "execution_count": 6,
   "metadata": {},
   "outputs": [
    {
     "name": "stdout",
     "output_type": "stream",
     "text": [
      "Path: q0 -> q1 -> q2 -> q0 -> q1 -> q0 -> q2\n",
      "Output: ABCABAC\n"
     ]
    }
   ],
   "source": [
    "import json\n",
    "\n",
    "def MooreSim(states : dict, trans : dict, test_string : str, initial_state : str) -> str :\n",
    "    res = \"\"\n",
    "    curr = initial_state\n",
    "    print(f\"Path: {curr} ->\", end=\" \")\n",
    "    output = states[curr]\n",
    "    res += output\n",
    "    for i in range(len(test_string)) :\n",
    "        curr = trans[curr][test_string[i]]\n",
    "        output = states[curr]\n",
    "        if i != len(test_string) - 1 : print(f\"{curr} ->\", end=\" \")\n",
    "        else : print(curr)\n",
    "        res += output\n",
    "\n",
    "    return res\n",
    "\n",
    "with open(\"/home/al/tugas-otomata/tugas/tugas-4.json\", \"r\") as file :\n",
    "    data = json.load(file)\n",
    "\n",
    "    states = data['states']\n",
    "    transitions = data['transitions']\n",
    "    initial_state = data['initial_state']\n",
    "    test_string = data['test_string']\n",
    "\n",
    "    sim = MooreSim(states, transitions, test_string, initial_state)\n",
    "    print(f\"Output: {sim}\")"
   ]
  }
 ],
 "metadata": {
  "kernelspec": {
   "display_name": "Python 3",
   "language": "python",
   "name": "python3"
  },
  "language_info": {
   "codemirror_mode": {
    "name": "ipython",
    "version": 3
   },
   "file_extension": ".py",
   "mimetype": "text/x-python",
   "name": "python",
   "nbconvert_exporter": "python",
   "pygments_lexer": "ipython3",
   "version": "3.10.12"
  }
 },
 "nbformat": 4,
 "nbformat_minor": 2
}
