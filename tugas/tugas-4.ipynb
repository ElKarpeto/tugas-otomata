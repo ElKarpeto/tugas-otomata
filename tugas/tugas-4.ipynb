{
 "cells": [
  {
   "cell_type": "markdown",
   "metadata": {},
   "source": [
    "# Tugas 4 Otomata"
   ]
  },
  {
   "cell_type": "code",
   "execution_count": null,
   "metadata": {},
   "outputs": [
    {
     "name": "stdout",
     "output_type": "stream",
     "text": [
      "Path: q0 -> q1 -> q2 -> q0 -> q1 -> q0 -> q2\n"
     ]
    }
   ],
   "source": [
    "import json\n",
    "\n",
    "def MooreSim(trans : dict, input_sec : str, initial_state : str) -> str :\n",
    "    res = \"\"\n",
    "    state = initial_state\n",
    "    print(f'Path: {state}', end=\" -> \")\n",
    "    for i in range(len(input_sec)) :\n",
    "        output = trans[state][input_sec[i]]['output']\n",
    "        nxt = trans[state][input_sec[i]]['next_state']\n",
    "        res += output\n",
    "        state = nxt\n",
    "\n",
    "        if i != len(input_sec) - 1 : print(state, end=\" -> \")\n",
    "        else : print(state)\n",
    "    \n",
    "    return res\n",
    "\n",
    "with open(\"/home/al/tugas-otomata/tugas/tugas-4.json\", \"r\") as file :\n",
    "    data = json.load(file)\n",
    "\n",
    "    transitions = data['transitions']\n",
    "    initial_state = data['initial_state']\n",
    "    input_sec = data['input_sequence']\n",
    "\n",
    "    sim = MooreSim(transitions, input_sec, initial_state)\n",
    "    print(f\"Output: {sim}\")"
   ]
  }
 ],
 "metadata": {
  "kernelspec": {
   "display_name": "Python 3",
   "language": "python",
   "name": "python3"
  },
  "language_info": {
   "codemirror_mode": {
    "name": "ipython",
    "version": 3
   },
   "file_extension": ".py",
   "mimetype": "text/x-python",
   "name": "python",
   "nbconvert_exporter": "python",
   "pygments_lexer": "ipython3",
   "version": "3.10.12"
  }
 },
 "nbformat": 4,
 "nbformat_minor": 2
}
