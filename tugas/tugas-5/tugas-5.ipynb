{
 "cells": [
  {
   "cell_type": "markdown",
   "metadata": {},
   "source": [
    "# Cocke–Younger–Kasami Algorithm"
   ]
  },
  {
   "cell_type": "code",
   "execution_count": 8,
   "metadata": {},
   "outputs": [],
   "source": [
    "from collections import defaultdict\n",
    "\n",
    "def create_reverse_grammar(rule):\n",
    "    reverse_grammar = defaultdict(list)\n",
    "    for lhs in rule:\n",
    "        for rhs in rule[lhs]:\n",
    "            reverse_grammar[tuple(rhs)].append(lhs)\n",
    "    return reverse_grammar\n",
    "\n",
    "def CYK(input_string, rule, start_symbol):\n",
    "    n = len(input_string)\n",
    "    table = [[set() for _ in range(n)] for _ in range(n)]\n",
    "    reverse_grammar = create_reverse_grammar(rule)\n",
    "\n",
    "    for i in range(n):\n",
    "        symbol = input_string[i]\n",
    "        for lhs in reverse_grammar.get((symbol,), []):\n",
    "            table[0][i].add(lhs)\n",
    "\n",
    "    for length in range(2, n+1):\n",
    "        for start in range(n - length + 1):\n",
    "            for partition in range(1, length):\n",
    "                left_cell = table[partition - 1][start]\n",
    "                right_cell = table[length - partition - 1][start + partition]\n",
    "                for B in left_cell:\n",
    "                    for C in right_cell:\n",
    "                        for lhs in reverse_grammar.get((B, C), []):\n",
    "                            table[length - 1][start].add(lhs)\n",
    "\n",
    "    accepted = start_symbol in table[n - 1][0]\n",
    "    return accepted, table"
   ]
  },
  {
   "cell_type": "code",
   "execution_count": null,
   "metadata": {},
   "outputs": [
    {
     "name": "stdout",
     "output_type": "stream",
     "text": [
      "Accepted by grammar? True\n",
      "CYK Parse Table (top-down):\n",
      "[['A', 'S', 'C'], '-', '-', '-', '-']\n",
      "['-', ['C', 'A', 'S'], '-', '-', '-']\n",
      "['-', ['B'], ['B'], '-', '-']\n",
      "[['A', 'S'], ['B'], ['C', 'S'], ['A', 'S'], '-']\n",
      "[['B'], ['A', 'C'], ['A', 'C'], ['B'], ['A', 'C']]\n"
     ]
    }
   ],
   "source": [
    "import json\n",
    "with open(\"/home/al/tugas-otomata/tugas/tugas-5/tugas-5.json\", \"r\") as file :\n",
    "    data = json.load(file)\n",
    "    input_string = data[\"input_string\"]\n",
    "    rule = data['rule']\n",
    "    start_symbol = data['start_symbol']\n",
    "    acc, table = CYK(input_string, rule, start_symbol)\n",
    "\n",
    "    print(\"Accepted?\" , acc)\n",
    "    print(\"CYK Table:\")\n",
    "    for row in reversed(table):\n",
    "        print([list(cell) if len(cell) else \"-\" for cell in row])"
   ]
  }
 ],
 "metadata": {
  "kernelspec": {
   "display_name": "Python 3",
   "language": "python",
   "name": "python3"
  },
  "language_info": {
   "codemirror_mode": {
    "name": "ipython",
    "version": 3
   },
   "file_extension": ".py",
   "mimetype": "text/x-python",
   "name": "python",
   "nbconvert_exporter": "python",
   "pygments_lexer": "ipython3",
   "version": "3.10.12"
  }
 },
 "nbformat": 4,
 "nbformat_minor": 2
}
