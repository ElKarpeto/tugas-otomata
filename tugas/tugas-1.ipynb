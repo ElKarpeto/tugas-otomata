{
 "cells": [
  {
   "cell_type": "markdown",
   "metadata": {},
   "source": [
    "## Binary Checker"
   ]
  },
  {
   "cell_type": "code",
   "execution_count": 83,
   "metadata": {},
   "outputs": [],
   "source": [
    "def binaryChecker1(s: str, st: list[str]) -> bool:\n",
    "    st.sort(key=len)\n",
    "    while len(s) > 0:\n",
    "        flag = False\n",
    "        \n",
    "        for temp in st:\n",
    "            if s.startswith(temp):\n",
    "                s = s[len(temp):]\n",
    "                flag = True\n",
    "                break\n",
    "        \n",
    "        if not flag:\n",
    "            return False\n",
    "\n",
    "    return True\n",
    "\n",
    "def binaryChecker2(s: str, st: list[str]) -> bool:\n",
    "    st.sort(key=len, reverse=True)\n",
    "    while len(s) > 0:\n",
    "        flag = False\n",
    "        \n",
    "        for temp in st:\n",
    "            if s.startswith(temp):\n",
    "                s = s[len(temp):]\n",
    "                flag = True\n",
    "                break\n",
    "        \n",
    "        if not flag:\n",
    "            return False\n",
    "\n",
    "    return True"
   ]
  },
  {
   "cell_type": "code",
   "execution_count": 85,
   "metadata": {},
   "outputs": [
    {
     "name": "stdout",
     "output_type": "stream",
     "text": [
      "No\n"
     ]
    }
   ],
   "source": [
    "s = \"0100101\"\n",
    "st = [\"00\", \"10\", \"010\", \"01001\"]\n",
    "\n",
    "res1 = binaryChecker1(s,st)\n",
    "res2 = binaryChecker2(s,st)\n",
    "if res1 == True and res2 == False : print(\"Yes\")\n",
    "elif res1 == False and res2 == False : print(\"No\")\n",
    "elif res1 == False and res2 == True : print(\"Yes\")\n",
    "else : print(\"Yes\")"
   ]
  },
  {
   "cell_type": "markdown",
   "metadata": {},
   "source": [
    "## Aritmethic Expression\n",
    "\n",
    "Asumsi yang digunakan:\n",
    "\n",
    "- bilangan tidak boleh lebih dari 1 digit, seperti puluhan, ratusan, ribuan, dll."
   ]
  },
  {
   "cell_type": "code",
   "execution_count": null,
   "metadata": {},
   "outputs": [],
   "source": [
    "from collections import deque\n",
    "\n",
    "rule = {\n",
    "    '(': 0, ')': 0,\n",
    "    '+': 1, '-': 1,\n",
    "    '*': 2, '/': 2\n",
    "}\n",
    "\n",
    "def RPN(s: str) -> str:\n",
    "    st = deque()\n",
    "    res = \"\"\n",
    "    s = s.strip()\n",
    "    prev = None\n",
    "\n",
    "    for c in s:\n",
    "        if c.isdigit():\n",
    "            res += c\n",
    "            res += \" \"\n",
    "        elif c in rule:\n",
    "            if c == '(':\n",
    "                if prev and (prev.isdigit() or prev == ')'):\n",
    "                    return \"\"  \n",
    "                st.append(c)\n",
    "            elif c == ')':\n",
    "                if prev in rule and prev not in (')', '('):\n",
    "                    return \"\"\n",
    "                while st and st[-1] != '(':\n",
    "                    res += st.pop() + \" \"\n",
    "                if st:\n",
    "                    st.pop()\n",
    "                else:\n",
    "                    return \"\"\n",
    "            else:\n",
    "                if prev is None or prev in rule and prev not in (')'):\n",
    "                    return \"\"\n",
    "                while st and rule[st[-1]] >= rule[c] and st[-1] != '(':\n",
    "                    res += st.pop() + \" \"\n",
    "                st.append(c)\n",
    "\n",
    "        prev = c\n",
    "\n",
    "    while st:\n",
    "        if st[-1] == '(':\n",
    "            return \"\"\n",
    "        res += st.pop() + \" \"\n",
    "\n",
    "    return res if res.strip() else \"\""
   ]
  },
  {
   "cell_type": "code",
   "execution_count": 2,
   "metadata": {},
   "outputs": [],
   "source": [
    "def evalRPN(s: str) -> bool:\n",
    "    if not s:\n",
    "        return False\n",
    "\n",
    "    st = deque()\n",
    "    tokens = s.split()\n",
    "\n",
    "    for token in tokens:\n",
    "        if token.isdigit():\n",
    "            st.append(int(token))\n",
    "        elif token in rule:\n",
    "            if len(st) < 2:\n",
    "                return False\n",
    "            b = st.pop()\n",
    "            a = st.pop()\n",
    "            if token == '+':\n",
    "                st.append(a + b)\n",
    "            elif token == '-':\n",
    "                st.append(a - b)\n",
    "            elif token == '*':\n",
    "                st.append(a * b)\n",
    "            elif token == '/':\n",
    "                if b == 0:\n",
    "                    return False\n",
    "                st.append(a / b)\n",
    "            else:\n",
    "                return False\n",
    "        else:\n",
    "            return False\n",
    "\n",
    "    return len(st) == 1"
   ]
  },
  {
   "cell_type": "code",
   "execution_count": 3,
   "metadata": {},
   "outputs": [
    {
     "name": "stdout",
     "output_type": "stream",
     "text": [
      "1 9 + 4 - 5 + \n",
      "yes\n"
     ]
    }
   ],
   "source": [
    "s = \"(1+9)-(4+5)\"\n",
    "rpn = RPN(s)\n",
    "print(rpn)\n",
    "print(\"yes\" if evalRPN(rpn) else \"no\")"
   ]
  }
 ],
 "metadata": {
  "kernelspec": {
   "display_name": "Python 3",
   "language": "python",
   "name": "python3"
  },
  "language_info": {
   "codemirror_mode": {
    "name": "ipython",
    "version": 3
   },
   "file_extension": ".py",
   "mimetype": "text/x-python",
   "name": "python",
   "nbconvert_exporter": "python",
   "pygments_lexer": "ipython3",
   "version": "3.10.12"
  }
 },
 "nbformat": 4,
 "nbformat_minor": 2
}
