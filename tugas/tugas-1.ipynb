{
 "cells": [
  {
   "cell_type": "markdown",
   "metadata": {},
   "source": [
    "## Binary Checker"
   ]
  },
  {
   "cell_type": "code",
   "execution_count": 29,
   "metadata": {},
   "outputs": [],
   "source": [
    "def binaryChecker(s: str, st: list[str]) -> bool:\n",
    "    st.sort()\n",
    "    index = len(s)\n",
    "    while len(s) >= len(st[0]) and len(s) != 0:\n",
    "        temp = s[0:index]\n",
    "        print(temp)\n",
    "        if temp in st:\n",
    "            s = s.replace(temp, \"\", 1)\n",
    "            index = len(s)\n",
    "        else:\n",
    "            index -= 1\n",
    "    \n",
    "    return len(s) == 0"
   ]
  },
  {
   "cell_type": "code",
   "execution_count": 30,
   "metadata": {},
   "outputs": [
    {
     "name": "stdout",
     "output_type": "stream",
     "text": [
      "01001\n",
      "Yes\n"
     ]
    }
   ],
   "source": [
    "st = [\"00\", \"10\", \"010\", \"01001\"]\n",
    "s = \"01001\"\n",
    "\n",
    "if binaryChecker(s, st) : print(\"Yes\")\n",
    "else : print(\"No\")"
   ]
  },
  {
   "cell_type": "markdown",
   "metadata": {},
   "source": [
    "## Aritmethic Expression\n",
    "\n",
    "Asumsi yang digunakan:\n",
    "\n",
    "- bilangan tidak boleh lebih dari 1 digit, seperti puluhan, ratusan, ribuan, dll."
   ]
  },
  {
   "cell_type": "code",
   "execution_count": null,
   "metadata": {},
   "outputs": [],
   "source": [
    "from collections import deque\n",
    "\n",
    "rule = {\n",
    "    '(': 0, ')': 0,\n",
    "    '+': 1, '-': 1,\n",
    "    '*': 2, '/': 2\n",
    "}\n",
    "\n",
    "# Fungsi ini digunakan untuk membuat ekspresi matematika ke dalam bentuk postfix\n",
    "def RPN(s: str) -> str:\n",
    "    st = deque()\n",
    "    res = \"\"\n",
    "    s = s.strip()\n",
    "\n",
    "    for c in s:\n",
    "        if c.isdigit():\n",
    "            res += c\n",
    "            res += \" \"\n",
    "        elif c in rule:\n",
    "            if c == '(':\n",
    "                st.append(c)\n",
    "            elif c == ')':\n",
    "                while st and st[-1] != '(':\n",
    "                    res += st.pop()\n",
    "                    res += \" \"\n",
    "                if st : st.pop()\n",
    "                else : return \"\"\n",
    "            else:\n",
    "                while st and rule[st[-1]] >= rule[c] and st[-1] != '(':\n",
    "                    res += st.pop()\n",
    "                    res += \" \"\n",
    "                st.append(c)\n",
    "\n",
    "    while st:\n",
    "        res += st.pop()\n",
    "        res += \" \"\n",
    "\n",
    "    return res"
   ]
  },
  {
   "cell_type": "code",
   "execution_count": null,
   "metadata": {},
   "outputs": [],
   "source": [
    "from collections import deque\n",
    "\n",
    "# Fungsi ini digunakan untuk mengevaluasi postfix\n",
    "def evalRPN(s : str) -> bool :\n",
    "    st = deque()\n",
    "    for i in range(len(s)) :\n",
    "        # print(*st)\n",
    "        if s[i].isdigit() :\n",
    "            st.append(int(s[i]))\n",
    "        elif s[i] != ' ' :\n",
    "            if len(st) >= 2 : \n",
    "                back = st.pop()\n",
    "                front = st.pop()\n",
    "                if s[i] == '+' :\n",
    "                    st.append(front + back)\n",
    "                elif s[i] == '-' :\n",
    "                    st.append(front - back)\n",
    "                elif s[i] == '*' :\n",
    "                    st.append(front * back)\n",
    "                elif s[i] == '/' :\n",
    "                    st.append(front / back)\n",
    "                else : return False\n",
    "            else : return False\n",
    "        else : continue\n",
    "    \n",
    "    if len(st) == 1 : return True\n",
    "    else : return False"
   ]
  },
  {
   "cell_type": "code",
   "execution_count": 39,
   "metadata": {},
   "outputs": [
    {
     "name": "stdout",
     "output_type": "stream",
     "text": [
      "4 8 1 + * \n",
      "\n",
      "4\n",
      "4\n",
      "4 8\n",
      "4 8\n",
      "4 8 1\n",
      "4 8 1\n",
      "4 9\n",
      "4 9\n",
      "36\n",
      "yes\n"
     ]
    }
   ],
   "source": [
    "s = \"4 * (8 + 1)\"\n",
    "rpn = RPN(s)\n",
    "print(rpn)\n",
    "print(\"yes\" if evalRPN(rpn) else \"no\")"
   ]
  }
 ],
 "metadata": {
  "kernelspec": {
   "display_name": "Python 3",
   "language": "python",
   "name": "python3"
  },
  "language_info": {
   "codemirror_mode": {
    "name": "ipython",
    "version": 3
   },
   "file_extension": ".py",
   "mimetype": "text/x-python",
   "name": "python",
   "nbconvert_exporter": "python",
   "pygments_lexer": "ipython3",
   "version": "3.10.12"
  }
 },
 "nbformat": 4,
 "nbformat_minor": 2
}
