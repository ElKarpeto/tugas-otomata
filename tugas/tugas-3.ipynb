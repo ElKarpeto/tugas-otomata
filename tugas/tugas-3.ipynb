{
 "cells": [
  {
   "cell_type": "code",
   "execution_count": null,
   "metadata": {},
   "outputs": [
    {
     "name": "stdout",
     "output_type": "stream",
     "text": [
      "Path: q0 -> q2 -> q4 -> q4 -> q4 -> q4 -> q4\n",
      "ACCEPTED\n"
     ]
    }
   ],
   "source": [
    "import json\n",
    "\n",
    "def DFA(dfa : dict, start_state : str, input_string : str) -> str | None :\n",
    "    state = start_state\n",
    "    for char in input_string:\n",
    "        if char in dfa[state]:\n",
    "            print(state, end=\" -> \")\n",
    "            state = dfa[state][char]\n",
    "        else:\n",
    "            return None\n",
    "    return state\n",
    "\n",
    "with open(\"/home/al/tugas-otomata/tugas/tugas-3.json\", 'r') as file :\n",
    "    data = json.load(file)\n",
    "    start_state = data['start_state']\n",
    "    final_state = data['accept_states']\n",
    "    transitions = data['transitions']\n",
    "    input_data = data['test_string']\n",
    "\n",
    "    print(\"Path: \", end=\"\")\n",
    "    result = DFA(transitions, start_state, input_data)\n",
    "    if result in final_state :\n",
    "        print(result)\n",
    "        print(\"ACCEPTED\")\n",
    "    else :\n",
    "        print(result)\n",
    "        print(\"REJECTED\")"
   ]
  }
 ],
 "metadata": {
  "kernelspec": {
   "display_name": "Python 3",
   "language": "python",
   "name": "python3"
  },
  "language_info": {
   "codemirror_mode": {
    "name": "ipython",
    "version": 3
   },
   "file_extension": ".py",
   "mimetype": "text/x-python",
   "name": "python",
   "nbconvert_exporter": "python",
   "pygments_lexer": "ipython3",
   "version": "3.10.12"
  }
 },
 "nbformat": 4,
 "nbformat_minor": 2
}
